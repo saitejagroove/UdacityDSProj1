{
 "cells": [
  {
   "cell_type": "code",
   "execution_count": 49,
   "metadata": {},
   "outputs": [
    {
     "data": {
      "text/html": [
       "<div>\n",
       "<style scoped>\n",
       "    .dataframe tbody tr th:only-of-type {\n",
       "        vertical-align: middle;\n",
       "    }\n",
       "\n",
       "    .dataframe tbody tr th {\n",
       "        vertical-align: top;\n",
       "    }\n",
       "\n",
       "    .dataframe thead th {\n",
       "        text-align: right;\n",
       "    }\n",
       "</style>\n",
       "<table border=\"1\" class=\"dataframe\">\n",
       "  <thead>\n",
       "    <tr style=\"text-align: right;\">\n",
       "      <th></th>\n",
       "      <th>Respondent</th>\n",
       "      <th>Professional</th>\n",
       "      <th>ProgramHobby</th>\n",
       "      <th>Country</th>\n",
       "      <th>University</th>\n",
       "      <th>EmploymentStatus</th>\n",
       "      <th>FormalEducation</th>\n",
       "      <th>MajorUndergrad</th>\n",
       "      <th>HomeRemote</th>\n",
       "      <th>CompanySize</th>\n",
       "      <th>...</th>\n",
       "      <th>StackOverflowMakeMoney</th>\n",
       "      <th>Gender</th>\n",
       "      <th>HighestEducationParents</th>\n",
       "      <th>Race</th>\n",
       "      <th>SurveyLong</th>\n",
       "      <th>QuestionsInteresting</th>\n",
       "      <th>QuestionsConfusing</th>\n",
       "      <th>InterestedAnswers</th>\n",
       "      <th>Salary</th>\n",
       "      <th>ExpectedSalary</th>\n",
       "    </tr>\n",
       "  </thead>\n",
       "  <tbody>\n",
       "    <tr>\n",
       "      <td>0</td>\n",
       "      <td>1</td>\n",
       "      <td>Student</td>\n",
       "      <td>Yes, both</td>\n",
       "      <td>United States</td>\n",
       "      <td>No</td>\n",
       "      <td>Not employed, and not looking for work</td>\n",
       "      <td>Secondary school</td>\n",
       "      <td>NaN</td>\n",
       "      <td>NaN</td>\n",
       "      <td>NaN</td>\n",
       "      <td>...</td>\n",
       "      <td>Strongly disagree</td>\n",
       "      <td>Male</td>\n",
       "      <td>High school</td>\n",
       "      <td>White or of European descent</td>\n",
       "      <td>Strongly disagree</td>\n",
       "      <td>Strongly agree</td>\n",
       "      <td>Disagree</td>\n",
       "      <td>Strongly agree</td>\n",
       "      <td>NaN</td>\n",
       "      <td>NaN</td>\n",
       "    </tr>\n",
       "    <tr>\n",
       "      <td>1</td>\n",
       "      <td>2</td>\n",
       "      <td>Student</td>\n",
       "      <td>Yes, both</td>\n",
       "      <td>United Kingdom</td>\n",
       "      <td>Yes, full-time</td>\n",
       "      <td>Employed part-time</td>\n",
       "      <td>Some college/university study without earning ...</td>\n",
       "      <td>Computer science or software engineering</td>\n",
       "      <td>More than half, but not all, the time</td>\n",
       "      <td>20 to 99 employees</td>\n",
       "      <td>...</td>\n",
       "      <td>Strongly disagree</td>\n",
       "      <td>Male</td>\n",
       "      <td>A master's degree</td>\n",
       "      <td>White or of European descent</td>\n",
       "      <td>Somewhat agree</td>\n",
       "      <td>Somewhat agree</td>\n",
       "      <td>Disagree</td>\n",
       "      <td>Strongly agree</td>\n",
       "      <td>NaN</td>\n",
       "      <td>37500.0</td>\n",
       "    </tr>\n",
       "    <tr>\n",
       "      <td>2</td>\n",
       "      <td>3</td>\n",
       "      <td>Professional developer</td>\n",
       "      <td>Yes, both</td>\n",
       "      <td>United Kingdom</td>\n",
       "      <td>No</td>\n",
       "      <td>Employed full-time</td>\n",
       "      <td>Bachelor's degree</td>\n",
       "      <td>Computer science or software engineering</td>\n",
       "      <td>Less than half the time, but at least one day ...</td>\n",
       "      <td>10,000 or more employees</td>\n",
       "      <td>...</td>\n",
       "      <td>Disagree</td>\n",
       "      <td>Male</td>\n",
       "      <td>A professional degree</td>\n",
       "      <td>White or of European descent</td>\n",
       "      <td>Somewhat agree</td>\n",
       "      <td>Agree</td>\n",
       "      <td>Disagree</td>\n",
       "      <td>Agree</td>\n",
       "      <td>113750.0</td>\n",
       "      <td>NaN</td>\n",
       "    </tr>\n",
       "    <tr>\n",
       "      <td>3</td>\n",
       "      <td>4</td>\n",
       "      <td>Professional non-developer who sometimes write...</td>\n",
       "      <td>Yes, both</td>\n",
       "      <td>United States</td>\n",
       "      <td>No</td>\n",
       "      <td>Employed full-time</td>\n",
       "      <td>Doctoral degree</td>\n",
       "      <td>A non-computer-focused engineering discipline</td>\n",
       "      <td>Less than half the time, but at least one day ...</td>\n",
       "      <td>10,000 or more employees</td>\n",
       "      <td>...</td>\n",
       "      <td>Disagree</td>\n",
       "      <td>Male</td>\n",
       "      <td>A doctoral degree</td>\n",
       "      <td>White or of European descent</td>\n",
       "      <td>Agree</td>\n",
       "      <td>Agree</td>\n",
       "      <td>Somewhat agree</td>\n",
       "      <td>Strongly agree</td>\n",
       "      <td>NaN</td>\n",
       "      <td>NaN</td>\n",
       "    </tr>\n",
       "    <tr>\n",
       "      <td>4</td>\n",
       "      <td>5</td>\n",
       "      <td>Professional developer</td>\n",
       "      <td>Yes, I program as a hobby</td>\n",
       "      <td>Switzerland</td>\n",
       "      <td>No</td>\n",
       "      <td>Employed full-time</td>\n",
       "      <td>Master's degree</td>\n",
       "      <td>Computer science or software engineering</td>\n",
       "      <td>Never</td>\n",
       "      <td>10 to 19 employees</td>\n",
       "      <td>...</td>\n",
       "      <td>NaN</td>\n",
       "      <td>NaN</td>\n",
       "      <td>NaN</td>\n",
       "      <td>NaN</td>\n",
       "      <td>NaN</td>\n",
       "      <td>NaN</td>\n",
       "      <td>NaN</td>\n",
       "      <td>NaN</td>\n",
       "      <td>NaN</td>\n",
       "      <td>NaN</td>\n",
       "    </tr>\n",
       "  </tbody>\n",
       "</table>\n",
       "<p>5 rows × 154 columns</p>\n",
       "</div>"
      ],
      "text/plain": [
       "   Respondent                                       Professional  \\\n",
       "0           1                                            Student   \n",
       "1           2                                            Student   \n",
       "2           3                             Professional developer   \n",
       "3           4  Professional non-developer who sometimes write...   \n",
       "4           5                             Professional developer   \n",
       "\n",
       "                ProgramHobby         Country      University  \\\n",
       "0                  Yes, both   United States              No   \n",
       "1                  Yes, both  United Kingdom  Yes, full-time   \n",
       "2                  Yes, both  United Kingdom              No   \n",
       "3                  Yes, both   United States              No   \n",
       "4  Yes, I program as a hobby     Switzerland              No   \n",
       "\n",
       "                         EmploymentStatus  \\\n",
       "0  Not employed, and not looking for work   \n",
       "1                      Employed part-time   \n",
       "2                      Employed full-time   \n",
       "3                      Employed full-time   \n",
       "4                      Employed full-time   \n",
       "\n",
       "                                     FormalEducation  \\\n",
       "0                                   Secondary school   \n",
       "1  Some college/university study without earning ...   \n",
       "2                                  Bachelor's degree   \n",
       "3                                    Doctoral degree   \n",
       "4                                    Master's degree   \n",
       "\n",
       "                                  MajorUndergrad  \\\n",
       "0                                            NaN   \n",
       "1       Computer science or software engineering   \n",
       "2       Computer science or software engineering   \n",
       "3  A non-computer-focused engineering discipline   \n",
       "4       Computer science or software engineering   \n",
       "\n",
       "                                          HomeRemote  \\\n",
       "0                                                NaN   \n",
       "1              More than half, but not all, the time   \n",
       "2  Less than half the time, but at least one day ...   \n",
       "3  Less than half the time, but at least one day ...   \n",
       "4                                              Never   \n",
       "\n",
       "                CompanySize  ... StackOverflowMakeMoney Gender  \\\n",
       "0                       NaN  ...      Strongly disagree   Male   \n",
       "1        20 to 99 employees  ...      Strongly disagree   Male   \n",
       "2  10,000 or more employees  ...               Disagree   Male   \n",
       "3  10,000 or more employees  ...               Disagree   Male   \n",
       "4        10 to 19 employees  ...                    NaN    NaN   \n",
       "\n",
       "  HighestEducationParents                          Race         SurveyLong  \\\n",
       "0             High school  White or of European descent  Strongly disagree   \n",
       "1       A master's degree  White or of European descent     Somewhat agree   \n",
       "2   A professional degree  White or of European descent     Somewhat agree   \n",
       "3       A doctoral degree  White or of European descent              Agree   \n",
       "4                     NaN                           NaN                NaN   \n",
       "\n",
       "  QuestionsInteresting QuestionsConfusing InterestedAnswers    Salary  \\\n",
       "0       Strongly agree           Disagree    Strongly agree       NaN   \n",
       "1       Somewhat agree           Disagree    Strongly agree       NaN   \n",
       "2                Agree           Disagree             Agree  113750.0   \n",
       "3                Agree     Somewhat agree    Strongly agree       NaN   \n",
       "4                  NaN                NaN               NaN       NaN   \n",
       "\n",
       "   ExpectedSalary  \n",
       "0             NaN  \n",
       "1         37500.0  \n",
       "2             NaN  \n",
       "3             NaN  \n",
       "4             NaN  \n",
       "\n",
       "[5 rows x 154 columns]"
      ]
     },
     "execution_count": 49,
     "metadata": {},
     "output_type": "execute_result"
    }
   ],
   "source": [
    "import numpy as np\n",
    "import pandas as pd\n",
    "import matplotlib.pyplot as plt\n",
    "from collections import defaultdict\n",
    "%matplotlib inline\n",
    "\n",
    "df = pd.read_csv('./survey_results_public.csv')\n",
    "schema = pd.read_csv('./survey_results_schema.csv').set_index('Column')\n",
    "df.head()\n"
   ]
  },
  {
   "cell_type": "markdown",
   "metadata": {
    "scrolled": true
   },
   "source": [
    "#### Exploring Different values and correlations\n"
   ]
  },
  {
   "cell_type": "code",
   "execution_count": 50,
   "metadata": {},
   "outputs": [],
   "source": [
    "#Considering "
   ]
  },
  {
   "cell_type": "code",
   "execution_count": 51,
   "metadata": {},
   "outputs": [
    {
     "data": {
      "text/plain": [
       "MySQL                                                  2009\n",
       "SQL Server                                             2004\n",
       "MongoDB                                                1899\n",
       "PostgreSQL                                             1531\n",
       "MongoDB; MySQL                                          790\n",
       "                                                       ... \n",
       "Cassandra; Redis; MySQL; PostgreSQL; Oracle; SQLite       1\n",
       "Redis; SQL Server; PostgreSQL; Oracle; SQLite             1\n",
       "Cassandra; Redis; SQL Server; PostgreSQL; Oracle          1\n",
       "Cassandra; Redis; PostgreSQL; Oracle; SQLite              1\n",
       "Cassandra; MongoDB; SQL Server; PostgreSQL; SQLite        1\n",
       "Name: WantWorkDatabase, Length: 248, dtype: int64"
      ]
     },
     "execution_count": 51,
     "metadata": {},
     "output_type": "execute_result"
    }
   ],
   "source": [
    "df['WantWorkDatabase'].value_counts()"
   ]
  },
  {
   "cell_type": "markdown",
   "metadata": {},
   "source": [
    "### Exploring questions ###\n",
    "#### Parent education vs Salary\n",
    "#### Compare mean females vs Males Salary\n",
    "#### Version control vs Company size\n",
    "\n",
    "######################################################################################################################\n",
    "\n",
    "\n"
   ]
  },
  {
   "cell_type": "code",
   "execution_count": null,
   "metadata": {},
   "outputs": [],
   "source": []
  },
  {
   "cell_type": "markdown",
   "metadata": {},
   "source": [
    "## Q1 Compare Gender counts and Salaried across genders. "
   ]
  },
  {
   "cell_type": "code",
   "execution_count": 52,
   "metadata": {},
   "outputs": [],
   "source": [
    "newdf = df[['Gender','HighestEducationParents','VersionControl','Salary','CompanySize']]"
   ]
  },
  {
   "cell_type": "code",
   "execution_count": 53,
   "metadata": {},
   "outputs": [
    {
     "data": {
      "text/html": [
       "<div>\n",
       "<style scoped>\n",
       "    .dataframe tbody tr th:only-of-type {\n",
       "        vertical-align: middle;\n",
       "    }\n",
       "\n",
       "    .dataframe tbody tr th {\n",
       "        vertical-align: top;\n",
       "    }\n",
       "\n",
       "    .dataframe thead th {\n",
       "        text-align: right;\n",
       "    }\n",
       "</style>\n",
       "<table border=\"1\" class=\"dataframe\">\n",
       "  <thead>\n",
       "    <tr style=\"text-align: right;\">\n",
       "      <th></th>\n",
       "      <th>Gender</th>\n",
       "      <th>HighestEducationParents</th>\n",
       "      <th>VersionControl</th>\n",
       "      <th>Salary</th>\n",
       "      <th>CompanySize</th>\n",
       "    </tr>\n",
       "  </thead>\n",
       "  <tbody>\n",
       "    <tr>\n",
       "      <td>0</td>\n",
       "      <td>Male</td>\n",
       "      <td>High school</td>\n",
       "      <td>NaN</td>\n",
       "      <td>NaN</td>\n",
       "      <td>NaN</td>\n",
       "    </tr>\n",
       "    <tr>\n",
       "      <td>1</td>\n",
       "      <td>Male</td>\n",
       "      <td>A master's degree</td>\n",
       "      <td>Git</td>\n",
       "      <td>NaN</td>\n",
       "      <td>20 to 99 employees</td>\n",
       "    </tr>\n",
       "    <tr>\n",
       "      <td>2</td>\n",
       "      <td>Male</td>\n",
       "      <td>A professional degree</td>\n",
       "      <td>Mercurial</td>\n",
       "      <td>113750.0</td>\n",
       "      <td>10,000 or more employees</td>\n",
       "    </tr>\n",
       "    <tr>\n",
       "      <td>3</td>\n",
       "      <td>Male</td>\n",
       "      <td>A doctoral degree</td>\n",
       "      <td>Git</td>\n",
       "      <td>NaN</td>\n",
       "      <td>10,000 or more employees</td>\n",
       "    </tr>\n",
       "    <tr>\n",
       "      <td>4</td>\n",
       "      <td>NaN</td>\n",
       "      <td>NaN</td>\n",
       "      <td>NaN</td>\n",
       "      <td>NaN</td>\n",
       "      <td>10 to 19 employees</td>\n",
       "    </tr>\n",
       "  </tbody>\n",
       "</table>\n",
       "</div>"
      ],
      "text/plain": [
       "  Gender HighestEducationParents VersionControl    Salary  \\\n",
       "0   Male             High school            NaN       NaN   \n",
       "1   Male       A master's degree            Git       NaN   \n",
       "2   Male   A professional degree      Mercurial  113750.0   \n",
       "3   Male       A doctoral degree            Git       NaN   \n",
       "4    NaN                     NaN            NaN       NaN   \n",
       "\n",
       "                CompanySize  \n",
       "0                       NaN  \n",
       "1        20 to 99 employees  \n",
       "2  10,000 or more employees  \n",
       "3  10,000 or more employees  \n",
       "4        10 to 19 employees  "
      ]
     },
     "execution_count": 53,
     "metadata": {},
     "output_type": "execute_result"
    }
   ],
   "source": [
    "newdf.head()"
   ]
  },
  {
   "cell_type": "markdown",
   "metadata": {},
   "source": [
    "#### Check the percentage of NaNs in columns"
   ]
  },
  {
   "cell_type": "code",
   "execution_count": 54,
   "metadata": {},
   "outputs": [
    {
     "data": {
      "text/plain": [
       "Gender                     0.318046\n",
       "HighestEducationParents    0.320167\n",
       "VersionControl             0.402047\n",
       "Salary                     0.749163\n",
       "CompanySize                0.242645\n",
       "dtype: float64"
      ]
     },
     "execution_count": 54,
     "metadata": {},
     "output_type": "execute_result"
    }
   ],
   "source": [
    "newdf.isnull().mean()"
   ]
  },
  {
   "cell_type": "code",
   "execution_count": 55,
   "metadata": {},
   "outputs": [
    {
     "data": {
      "text/plain": [
       "0.7491632938978829"
      ]
     },
     "execution_count": 55,
     "metadata": {},
     "output_type": "execute_result"
    }
   ],
   "source": [
    "1- newdf['Salary'].count()/newdf.shape[0]  #verifying that around 75% of Salary values are NaNs"
   ]
  },
  {
   "cell_type": "code",
   "execution_count": 56,
   "metadata": {},
   "outputs": [
    {
     "data": {
      "text/plain": [
       "Male                                                       10666\n",
       "Female                                                       819\n",
       "Other                                                         49\n",
       "Male; Other                                                   44\n",
       "Gender non-conforming                                         43\n",
       "Male; Gender non-conforming                                   21\n",
       "Female; Transgender                                           19\n",
       "Female; Gender non-conforming                                 13\n",
       "Transgender                                                    8\n",
       "Male; Female; Transgender; Gender non-conforming; Other        6\n",
       "Male; Female                                                   5\n",
       "Male; Transgender                                              4\n",
       "Transgender; Gender non-conforming                             4\n",
       "Female; Transgender; Gender non-conforming                     3\n",
       "Male; Female; Transgender                                      1\n",
       "Male; Gender non-conforming; Other                             1\n",
       "Female; Transgender; Other                                     1\n",
       "Male; Female; Other                                            1\n",
       "Male; Transgender; Other                                       1\n",
       "Name: Gender, dtype: int64"
      ]
     },
     "execution_count": 56,
     "metadata": {},
     "output_type": "execute_result"
    }
   ],
   "source": [
    "nonandf=newdf.dropna(subset=['Gender','Salary'])\n",
    "gendersalaries = nonandf[['Gender','Salary']].groupby(['Gender']).median()\n",
    "nonandf['Gender'].value_counts()"
   ]
  },
  {
   "cell_type": "code",
   "execution_count": 57,
   "metadata": {},
   "outputs": [
    {
     "data": {
      "text/html": [
       "<div>\n",
       "<style scoped>\n",
       "    .dataframe tbody tr th:only-of-type {\n",
       "        vertical-align: middle;\n",
       "    }\n",
       "\n",
       "    .dataframe tbody tr th {\n",
       "        vertical-align: top;\n",
       "    }\n",
       "\n",
       "    .dataframe thead th {\n",
       "        text-align: right;\n",
       "    }\n",
       "</style>\n",
       "<table border=\"1\" class=\"dataframe\">\n",
       "  <thead>\n",
       "    <tr style=\"text-align: right;\">\n",
       "      <th></th>\n",
       "      <th>Salary</th>\n",
       "    </tr>\n",
       "    <tr>\n",
       "      <th>Gender</th>\n",
       "      <th></th>\n",
       "    </tr>\n",
       "  </thead>\n",
       "  <tbody>\n",
       "    <tr>\n",
       "      <td>Male; Female</td>\n",
       "      <td>5285.567464</td>\n",
       "    </tr>\n",
       "    <tr>\n",
       "      <td>Male; Female; Transgender</td>\n",
       "      <td>12000.000000</td>\n",
       "    </tr>\n",
       "    <tr>\n",
       "      <td>Male; Female; Other</td>\n",
       "      <td>15000.000000</td>\n",
       "    </tr>\n",
       "    <tr>\n",
       "      <td>Male; Female; Transgender; Gender non-conforming; Other</td>\n",
       "      <td>21171.559472</td>\n",
       "    </tr>\n",
       "    <tr>\n",
       "      <td>Male; Other</td>\n",
       "      <td>39404.964023</td>\n",
       "    </tr>\n",
       "    <tr>\n",
       "      <td>Male</td>\n",
       "      <td>50537.634409</td>\n",
       "    </tr>\n",
       "    <tr>\n",
       "      <td>Female</td>\n",
       "      <td>52500.000000</td>\n",
       "    </tr>\n",
       "    <tr>\n",
       "      <td>Transgender; Gender non-conforming</td>\n",
       "      <td>52500.000000</td>\n",
       "    </tr>\n",
       "    <tr>\n",
       "      <td>Female; Gender non-conforming</td>\n",
       "      <td>53000.000000</td>\n",
       "    </tr>\n",
       "    <tr>\n",
       "      <td>Other</td>\n",
       "      <td>53763.440860</td>\n",
       "    </tr>\n",
       "    <tr>\n",
       "      <td>Gender non-conforming</td>\n",
       "      <td>53763.440860</td>\n",
       "    </tr>\n",
       "    <tr>\n",
       "      <td>Male; Gender non-conforming</td>\n",
       "      <td>57013.574661</td>\n",
       "    </tr>\n",
       "    <tr>\n",
       "      <td>Male; Gender non-conforming; Other</td>\n",
       "      <td>66000.000000</td>\n",
       "    </tr>\n",
       "    <tr>\n",
       "      <td>Male; Transgender; Other</td>\n",
       "      <td>67500.000000</td>\n",
       "    </tr>\n",
       "    <tr>\n",
       "      <td>Female; Transgender</td>\n",
       "      <td>70000.000000</td>\n",
       "    </tr>\n",
       "    <tr>\n",
       "      <td>Male; Transgender</td>\n",
       "      <td>73238.787879</td>\n",
       "    </tr>\n",
       "    <tr>\n",
       "      <td>Transgender</td>\n",
       "      <td>80250.000000</td>\n",
       "    </tr>\n",
       "    <tr>\n",
       "      <td>Female; Transgender; Gender non-conforming</td>\n",
       "      <td>104000.000000</td>\n",
       "    </tr>\n",
       "    <tr>\n",
       "      <td>Female; Transgender; Other</td>\n",
       "      <td>126000.000000</td>\n",
       "    </tr>\n",
       "  </tbody>\n",
       "</table>\n",
       "</div>"
      ],
      "text/plain": [
       "                                                           Salary\n",
       "Gender                                                           \n",
       "Male; Female                                          5285.567464\n",
       "Male; Female; Transgender                            12000.000000\n",
       "Male; Female; Other                                  15000.000000\n",
       "Male; Female; Transgender; Gender non-conformin...   21171.559472\n",
       "Male; Other                                          39404.964023\n",
       "Male                                                 50537.634409\n",
       "Female                                               52500.000000\n",
       "Transgender; Gender non-conforming                   52500.000000\n",
       "Female; Gender non-conforming                        53000.000000\n",
       "Other                                                53763.440860\n",
       "Gender non-conforming                                53763.440860\n",
       "Male; Gender non-conforming                          57013.574661\n",
       "Male; Gender non-conforming; Other                   66000.000000\n",
       "Male; Transgender; Other                             67500.000000\n",
       "Female; Transgender                                  70000.000000\n",
       "Male; Transgender                                    73238.787879\n",
       "Transgender                                          80250.000000\n",
       "Female; Transgender; Gender non-conforming          104000.000000\n",
       "Female; Transgender; Other                          126000.000000"
      ]
     },
     "execution_count": 57,
     "metadata": {},
     "output_type": "execute_result"
    }
   ],
   "source": [
    "gendersalaries.sort_values('Salary')"
   ]
  },
  {
   "cell_type": "code",
   "execution_count": 58,
   "metadata": {},
   "outputs": [
    {
     "name": "stdout",
     "output_type": "stream",
     "text": [
      "                       count\n",
      "method                      \n",
      "Male                   31890\n",
      "Female                  2743\n",
      "Other                    428\n",
      "Gender non-conforming    314\n",
      "Transgender              180\n"
     ]
    },
    {
     "data": {
      "image/png": "[encoded data removed]",
      "text/plain": [
       "<Figure size 432x288 with 1 Axes>"
      ]
     },
     "metadata": {
      "needs_background": "light"
     },
     "output_type": "display_data"
    }
   ],
   "source": [
    "possible_vals = [\"Male\",\"Female\",\"Transgender\",\"Other\",\"Gender non-conforming\"]\n",
    "\n",
    "def total_count(df, col1, col2, look_for):\n",
    "    '''\n",
    "    INPUT:\n",
    "    df - the pandas dataframe you want to search\n",
    "    col1 - the column name you want to look through\n",
    "    col2 - the column you want to count values from\n",
    "    look_for - a list of strings you want to search for in each row of df[col]\n",
    "\n",
    "    OUTPUT:\n",
    "    new_df - a dataframe of each look_for with the count of how often it shows up\n",
    "    '''\n",
    "    new_df = defaultdict(int)\n",
    "    #loop through list of ed types\n",
    "    for val in look_for:\n",
    "        #loop through rows\n",
    "        for idx in range(df.shape[0]):\n",
    "            #if the ed type is in the row add 1\n",
    "            if val in df[col1][idx]:\n",
    "                new_df[val] += int(df[col2][idx])\n",
    "    new_df = pd.DataFrame(pd.Series(new_df)).reset_index()\n",
    "    new_df.columns = [col1, col2]\n",
    "    new_df.sort_values('count', ascending=False, inplace=True)\n",
    "    return new_df\n",
    "\n",
    "def clean_and_plot(df, title='Method of Educating Suggested', plot=True):\n",
    "    '''\n",
    "    INPUT \n",
    "        df - a dataframe holding the CousinEducation column\n",
    "        title - string the title of your plot\n",
    "        axis - axis object\n",
    "        plot - bool providing whether or not you want a plot back\n",
    "        \n",
    "    OUTPUT\n",
    "        study_df - a dataframe with the count of how many individuals\n",
    "        Displays a plot of pretty things related to the CousinEducation column.\n",
    "    '''\n",
    "    study = df['Gender'].value_counts().reset_index()\n",
    "    study.rename(columns={'index': 'method', 'Gender': 'count','Salary' : 'Salary'}, inplace=True)\n",
    "    \n",
    "    study_df = total_count(study, 'method', 'count', possible_vals)\n",
    "    study_df.set_index('method', inplace=True)\n",
    "    print(study_df.head())\n",
    "    if plot:\n",
    "        (study_df/study_df.sum()).plot(kind='bar', legend=None);\n",
    "        plt.title(title);\n",
    "        plt.show()\n",
    "    props_study_df = study_df/study_df.sum()\n",
    "    return props_study_df\n",
    "    \n",
    "props_df = clean_and_plot(df)"
   ]
  },
  {
   "cell_type": "markdown",
   "metadata": {},
   "source": [
    "### These plot shows the demographic of the categories. \n",
    "### Observations:\n",
    "#### There are lot of males in the Data\n",
    "#### Observing medians of Salary data, and eliminating unique outlier rows,('Female; Transgender; Gender non-conforming') earn the most, followed by ('Transgender').\n",
    "#### ('Male; Female') earn the least, followed by ('Male; Female';Transgender').\n"
   ]
  },
  {
   "cell_type": "markdown",
   "metadata": {},
   "source": [
    "\n",
    "## Q2 Parent Education vs Salary"
   ]
  },
  {
   "cell_type": "code",
   "execution_count": 59,
   "metadata": {},
   "outputs": [
    {
     "data": {
      "text/plain": [
       "A bachelor's degree                                    3550\n",
       "A master's degree                                      2603\n",
       "High school                                            2051\n",
       "Some college/university study, no bachelor's degree    1619\n",
       "A doctoral degree                                       625\n",
       "A professional degree                                   551\n",
       "Primary/elementary school                               414\n",
       "I don't know/not sure                                   167\n",
       "I prefer not to answer                                   65\n",
       "No education                                             58\n",
       "Name: HighestEducationParents, dtype: int64"
      ]
     },
     "execution_count": 59,
     "metadata": {},
     "output_type": "execute_result"
    }
   ],
   "source": [
    "nonandf=newdf.dropna(subset=['HighestEducationParents','Salary'])\n",
    "peddf = nonandf[['HighestEducationParents','Salary']].groupby(['HighestEducationParents']).median()\n",
    "nonandf['HighestEducationParents'].value_counts()"
   ]
  },
  {
   "cell_type": "code",
   "execution_count": 60,
   "metadata": {},
   "outputs": [
    {
     "data": {
      "text/html": [
       "<div>\n",
       "<style scoped>\n",
       "    .dataframe tbody tr th:only-of-type {\n",
       "        vertical-align: middle;\n",
       "    }\n",
       "\n",
       "    .dataframe tbody tr th {\n",
       "        vertical-align: top;\n",
       "    }\n",
       "\n",
       "    .dataframe thead th {\n",
       "        text-align: right;\n",
       "    }\n",
       "</style>\n",
       "<table border=\"1\" class=\"dataframe\">\n",
       "  <thead>\n",
       "    <tr style=\"text-align: right;\">\n",
       "      <th></th>\n",
       "      <th>Salary</th>\n",
       "    </tr>\n",
       "    <tr>\n",
       "      <th>HighestEducationParents</th>\n",
       "      <th></th>\n",
       "    </tr>\n",
       "  </thead>\n",
       "  <tbody>\n",
       "    <tr>\n",
       "      <td>Primary/elementary school</td>\n",
       "      <td>35741.935484</td>\n",
       "    </tr>\n",
       "    <tr>\n",
       "      <td>No education</td>\n",
       "      <td>36463.068182</td>\n",
       "    </tr>\n",
       "    <tr>\n",
       "      <td>I prefer not to answer</td>\n",
       "      <td>43010.752688</td>\n",
       "    </tr>\n",
       "    <tr>\n",
       "      <td>I don't know/not sure</td>\n",
       "      <td>45161.290323</td>\n",
       "    </tr>\n",
       "    <tr>\n",
       "      <td>High school</td>\n",
       "      <td>45454.545455</td>\n",
       "    </tr>\n",
       "    <tr>\n",
       "      <td>A bachelor's degree</td>\n",
       "      <td>51612.903226</td>\n",
       "    </tr>\n",
       "    <tr>\n",
       "      <td>A master's degree</td>\n",
       "      <td>53763.440860</td>\n",
       "    </tr>\n",
       "    <tr>\n",
       "      <td>Some college/university study, no bachelor's degree</td>\n",
       "      <td>54000.000000</td>\n",
       "    </tr>\n",
       "    <tr>\n",
       "      <td>A professional degree</td>\n",
       "      <td>56000.000000</td>\n",
       "    </tr>\n",
       "    <tr>\n",
       "      <td>A doctoral degree</td>\n",
       "      <td>60000.000000</td>\n",
       "    </tr>\n",
       "  </tbody>\n",
       "</table>\n",
       "</div>"
      ],
      "text/plain": [
       "                                                          Salary\n",
       "HighestEducationParents                                         \n",
       "Primary/elementary school                           35741.935484\n",
       "No education                                        36463.068182\n",
       "I prefer not to answer                              43010.752688\n",
       "I don't know/not sure                               45161.290323\n",
       "High school                                         45454.545455\n",
       "A bachelor's degree                                 51612.903226\n",
       "A master's degree                                   53763.440860\n",
       "Some college/university study, no bachelor's de...  54000.000000\n",
       "A professional degree                               56000.000000\n",
       "A doctoral degree                                   60000.000000"
      ]
     },
     "execution_count": 60,
     "metadata": {},
     "output_type": "execute_result"
    }
   ],
   "source": [
    "peddf.sort_values('Salary')"
   ]
  },
  {
   "cell_type": "markdown",
   "metadata": {},
   "source": [
    "### OBSERVATIONS\n",
    "#### We can observe a strong Pattern between parents education and Salary. Higher the education, Higher the Salary. \n",
    "#### We also notice that most of the parents have Bachelor's or Master's degree and very few parents have no education.\n",
    "#### Data shows, people had median salary of around 60000 when parents have a Doctoral degree. This is the highest compared to other groups."
   ]
  },
  {
   "cell_type": "markdown",
   "metadata": {},
   "source": [
    "#### *One big reason why we are choosing Median instead of Mean is because of the distortion that one outlier salary can have on a grouup of salaries. For example, one ceo who gets paid a million dollars and has uneducated parents can shift the ranking of that particular group to different locaton which doesn't accurately depict the scene."
   ]
  },
  {
   "cell_type": "markdown",
   "metadata": {},
   "source": [
    "## Q3 Version Control vs Company size \n"
   ]
  },
  {
   "cell_type": "code",
   "execution_count": 61,
   "metadata": {},
   "outputs": [],
   "source": [
    "\n",
    "nonandf=newdf.dropna(subset=['VersionControl','CompanySize'])\n",
    "nonandf= nonandf[['VersionControl','CompanySize']]\n",
    "nonandf = nonandf[nonandf.CompanySize != \"I don't know\"]\n",
    "nonandf = nonandf[nonandf.CompanySize != \"I prefer not to answer\"]\n"
   ]
  },
  {
   "cell_type": "code",
   "execution_count": null,
   "metadata": {},
   "outputs": [],
   "source": [
    "posvals=['Fewer than 10 employees','10 to 19 employees','20 to 99 employees','100 to 499 employees','500 to 999 employees','1,000 to 4,999 employees','5,000 to 9,999 employees','10,000 or more employees']\n",
    "for i in range(len(posvals)):\n",
    "    numnonandf= nonandf.replace(to_replace =posvals[i], value = i+1) "
   ]
  },
  {
   "cell_type": "code",
   "execution_count": 64,
   "metadata": {},
   "outputs": [],
   "source": [
    "vdf = nonandf[['VersionControl','CompanySize']].groupby(['CompanySize']).agg(pd.Series.mode)\n"
   ]
  },
  {
   "cell_type": "code",
   "execution_count": 43,
   "metadata": {},
   "outputs": [
    {
     "data": {
      "text/plain": [
       "Git                                            15870\n",
       "Subversion                                      2391\n",
       "Team Foundation Server                          1992\n",
       "I use some other system                          755\n",
       "I don't use version control                      569\n",
       "Mercurial                                        466\n",
       "Copying and pasting files to network shares      336\n",
       "Zip file back-ups                                303\n",
       "Visual Source Safe                               138\n",
       "Rational ClearCase                                97\n",
       "Name: VersionControl, dtype: int64"
      ]
     },
     "execution_count": 43,
     "metadata": {},
     "output_type": "execute_result"
    }
   ],
   "source": [
    "\n",
    "nonandf['VersionControl'].value_counts()"
   ]
  },
  {
   "cell_type": "code",
   "execution_count": 67,
   "metadata": {},
   "outputs": [
    {
     "data": {
      "text/plain": [
       "20 to 99 employees          5270\n",
       "100 to 499 employees        4466\n",
       "10,000 or more employees    3465\n",
       "10 to 19 employees          2467\n",
       "1,000 to 4,999 employees    2443\n",
       "Fewer than 10 employees     2277\n",
       "500 to 999 employees        1513\n",
       "5,000 to 9,999 employees    1016\n",
       "Name: CompanySize, dtype: int64"
      ]
     },
     "execution_count": 67,
     "metadata": {},
     "output_type": "execute_result"
    }
   ],
   "source": [
    "\n",
    "nonandf['CompanySize'].value_counts()"
   ]
  },
  {
   "cell_type": "code",
   "execution_count": 65,
   "metadata": {},
   "outputs": [
    {
     "data": {
      "text/html": [
       "<div>\n",
       "<style scoped>\n",
       "    .dataframe tbody tr th:only-of-type {\n",
       "        vertical-align: middle;\n",
       "    }\n",
       "\n",
       "    .dataframe tbody tr th {\n",
       "        vertical-align: top;\n",
       "    }\n",
       "\n",
       "    .dataframe thead th {\n",
       "        text-align: right;\n",
       "    }\n",
       "</style>\n",
       "<table border=\"1\" class=\"dataframe\">\n",
       "  <thead>\n",
       "    <tr style=\"text-align: right;\">\n",
       "      <th></th>\n",
       "      <th>VersionControl</th>\n",
       "    </tr>\n",
       "    <tr>\n",
       "      <th>CompanySize</th>\n",
       "      <th></th>\n",
       "    </tr>\n",
       "  </thead>\n",
       "  <tbody>\n",
       "    <tr>\n",
       "      <td>1,000 to 4,999 employees</td>\n",
       "      <td>Git</td>\n",
       "    </tr>\n",
       "    <tr>\n",
       "      <td>10 to 19 employees</td>\n",
       "      <td>Git</td>\n",
       "    </tr>\n",
       "    <tr>\n",
       "      <td>10,000 or more employees</td>\n",
       "      <td>Git</td>\n",
       "    </tr>\n",
       "    <tr>\n",
       "      <td>100 to 499 employees</td>\n",
       "      <td>Git</td>\n",
       "    </tr>\n",
       "    <tr>\n",
       "      <td>20 to 99 employees</td>\n",
       "      <td>Git</td>\n",
       "    </tr>\n",
       "    <tr>\n",
       "      <td>5,000 to 9,999 employees</td>\n",
       "      <td>Git</td>\n",
       "    </tr>\n",
       "    <tr>\n",
       "      <td>500 to 999 employees</td>\n",
       "      <td>Git</td>\n",
       "    </tr>\n",
       "    <tr>\n",
       "      <td>Fewer than 10 employees</td>\n",
       "      <td>Git</td>\n",
       "    </tr>\n",
       "  </tbody>\n",
       "</table>\n",
       "</div>"
      ],
      "text/plain": [
       "                         VersionControl\n",
       "CompanySize                            \n",
       "1,000 to 4,999 employees            Git\n",
       "10 to 19 employees                  Git\n",
       "10,000 or more employees            Git\n",
       "100 to 499 employees                Git\n",
       "20 to 99 employees                  Git\n",
       "5,000 to 9,999 employees            Git\n",
       "500 to 999 employees                Git\n",
       "Fewer than 10 employees             Git"
      ]
     },
     "execution_count": 65,
     "metadata": {},
     "output_type": "execute_result"
    }
   ],
   "source": [
    "vdf.sort_values('CompanySize')"
   ]
  },
  {
   "cell_type": "code",
   "execution_count": 66,
   "metadata": {},
   "outputs": [
    {
     "data": {
      "text/html": [
       "<div>\n",
       "<style scoped>\n",
       "    .dataframe tbody tr th:only-of-type {\n",
       "        vertical-align: middle;\n",
       "    }\n",
       "\n",
       "    .dataframe tbody tr th {\n",
       "        vertical-align: top;\n",
       "    }\n",
       "\n",
       "    .dataframe thead th {\n",
       "        text-align: right;\n",
       "    }\n",
       "</style>\n",
       "<table border=\"1\" class=\"dataframe\">\n",
       "  <thead>\n",
       "    <tr style=\"text-align: right;\">\n",
       "      <th></th>\n",
       "      <th>CompanySize</th>\n",
       "    </tr>\n",
       "    <tr>\n",
       "      <th>VersionControl</th>\n",
       "      <th></th>\n",
       "    </tr>\n",
       "  </thead>\n",
       "  <tbody>\n",
       "    <tr>\n",
       "      <td>Copying and pasting files to network shares</td>\n",
       "      <td>20 to 99 employees</td>\n",
       "    </tr>\n",
       "    <tr>\n",
       "      <td>Git</td>\n",
       "      <td>20 to 99 employees</td>\n",
       "    </tr>\n",
       "    <tr>\n",
       "      <td>I don't use version control</td>\n",
       "      <td>20 to 99 employees</td>\n",
       "    </tr>\n",
       "    <tr>\n",
       "      <td>I use some other system</td>\n",
       "      <td>10,000 or more employees</td>\n",
       "    </tr>\n",
       "    <tr>\n",
       "      <td>Mercurial</td>\n",
       "      <td>20 to 99 employees</td>\n",
       "    </tr>\n",
       "    <tr>\n",
       "      <td>Rational ClearCase</td>\n",
       "      <td>10,000 or more employees</td>\n",
       "    </tr>\n",
       "    <tr>\n",
       "      <td>Subversion</td>\n",
       "      <td>20 to 99 employees</td>\n",
       "    </tr>\n",
       "    <tr>\n",
       "      <td>Team Foundation Server</td>\n",
       "      <td>20 to 99 employees</td>\n",
       "    </tr>\n",
       "    <tr>\n",
       "      <td>Visual Source Safe</td>\n",
       "      <td>20 to 99 employees</td>\n",
       "    </tr>\n",
       "    <tr>\n",
       "      <td>Zip file back-ups</td>\n",
       "      <td>20 to 99 employees</td>\n",
       "    </tr>\n",
       "  </tbody>\n",
       "</table>\n",
       "</div>"
      ],
      "text/plain": [
       "                                                          CompanySize\n",
       "VersionControl                                                       \n",
       "Copying and pasting files to network shares        20 to 99 employees\n",
       "Git                                                20 to 99 employees\n",
       "I don't use version control                        20 to 99 employees\n",
       "I use some other system                      10,000 or more employees\n",
       "Mercurial                                          20 to 99 employees\n",
       "Rational ClearCase                           10,000 or more employees\n",
       "Subversion                                         20 to 99 employees\n",
       "Team Foundation Server                             20 to 99 employees\n",
       "Visual Source Safe                                 20 to 99 employees\n",
       "Zip file back-ups                                  20 to 99 employees"
      ]
     },
     "execution_count": 66,
     "metadata": {},
     "output_type": "execute_result"
    }
   ],
   "source": [
    "vdf = nonandf[['VersionControl','CompanySize']].groupby(['VersionControl']).agg(pd.Series.mode)\n",
    "vdf.sort_values('VersionControl')"
   ]
  },
  {
   "cell_type": "markdown",
   "metadata": {},
   "source": [
    "### Observatons\n",
    "#### Almost all companies predominantly use GIT\n",
    "#### \"Someother system\" and Rational Clear case is mostly used by huge companies.\n",
    "#### 20-99 employees have sweeped the floor since it is the most common company size.\n",
    "\n",
    "#### * Used mode here since we want to know most common."
   ]
  },
  {
   "cell_type": "code",
   "execution_count": null,
   "metadata": {},
   "outputs": [],
   "source": []
  },
  {
   "cell_type": "code",
   "execution_count": null,
   "metadata": {},
   "outputs": [],
   "source": []
  }
 ],
 "metadata": {
  "kernelspec": {
   "display_name": "Python 3",
   "language": "python",
   "name": "python3"
  },
  "language_info": {
   "codemirror_mode": {
    "name": "ipython",
    "version": 3
   },
   "file_extension": ".py",
   "mimetype": "text/x-python",
   "name": "python",
   "nbconvert_exporter": "python",
   "pygments_lexer": "ipython3",
   "version": "3.7.4"
  }
 },
 "nbformat": 4,
 "nbformat_minor": 4
}
